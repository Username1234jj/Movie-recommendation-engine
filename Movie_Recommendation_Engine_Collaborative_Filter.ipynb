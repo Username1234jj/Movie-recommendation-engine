{
  "metadata": {
    "kernelspec": {
      "language": "python",
      "display_name": "Python 3",
      "name": "python3"
    },
    "language_info": {
      "pygments_lexer": "ipython3",
      "nbconvert_exporter": "python",
      "version": "3.6.4",
      "file_extension": ".py",
      "codemirror_mode": {
        "name": "ipython",
        "version": 3
      },
      "name": "python",
      "mimetype": "text/x-python"
    },
    "colab": {
      "name": "Movie Recommendation Engine - Collaborative Filter",
      "provenance": [],
      "include_colab_link": true
    }
  },
  "nbformat_minor": 0,
  "nbformat": 4,
  "cells": [
    {
      "cell_type": "markdown",
      "metadata": {
        "id": "view-in-github",
        "colab_type": "text"
      },
      "source": [
        "<a href=\"https://colab.research.google.com/github/Username1234jj/Movie-recommendation-engine/blob/main/Movie_Recommendation_Engine_Collaborative_Filter.ipynb\" target=\"_parent\"><img src=\"https://colab.research.google.com/assets/colab-badge.svg\" alt=\"Open In Colab\"/></a>"
      ]
    },
    {
      "source": [
        "# IMPORTANT: RUN THIS CELL IN ORDER TO IMPORT YOUR KAGGLE DATA SOURCES,\n",
        "# THEN FEEL FREE TO DELETE THIS CELL.\n",
        "# NOTE: THIS NOTEBOOK ENVIRONMENT DIFFERS FROM KAGGLE'S PYTHON\n",
        "# ENVIRONMENT SO THERE MAY BE MISSING LIBRARIES USED BY YOUR\n",
        "# NOTEBOOK.\n",
        "import kagglehub\n",
        "rounakbanik_the_movies_dataset_path = kagglehub.dataset_download('rounakbanik/the-movies-dataset')\n",
        "\n",
        "print('Data source import complete.')\n"
      ],
      "metadata": {
        "id": "RIsZMxkqCjUn"
      },
      "cell_type": "code",
      "outputs": [],
      "execution_count": null
    },
    {
      "cell_type": "markdown",
      "source": [
        "**What is a Recommendation System?**\n",
        "\n",
        "Simply put a Recommendation System is a filtration program whose prime goal is to predict the “rating” or “preference” of a user towards a domain-specific item or item. In our case, this domain-specific item is a movie, therefore the main focus of our recommendation system is to filter and predict only those movies which a user would prefer given some data about the user him or herself."
      ],
      "metadata": {
        "id": "bcyQ1crICjUq"
      }
    },
    {
      "cell_type": "markdown",
      "source": [
        "**What are the different filtration strategies?**"
      ],
      "metadata": {
        "id": "85IuCl7zCjUr"
      }
    },
    {
      "cell_type": "markdown",
      "source": [
        "![](https://editor.analyticsvidhya.com/uploads/88506recommendation%20system.png)"
      ],
      "metadata": {
        "id": "Hlz0WoG0CjUr"
      }
    },
    {
      "cell_type": "markdown",
      "source": [
        "**Collaborative Filtering**\n",
        "\n",
        "This filtration strategy is based on the combination of the user’s behavior and comparing and contrasting that with other users’ behavior in the database. The history of all users plays an important role in this algorithm. The main difference between content-based filtering and collaborative filtering that in the latter, the interaction of all users with the items influences the recommendation algorithm while for content-based filtering only the concerned user’s data is taken into account.\n",
        "There are multiple ways to implement collaborative filtering but the main concept to be grasped is that in collaborative filtering multiple user’s data influences the outcome of the recommendation. and doesn’t depend on only one user’s data for modeling."
      ],
      "metadata": {
        "id": "ke52TL58CjUs"
      }
    },
    {
      "cell_type": "markdown",
      "source": [
        "**Let’s start coding up our own Movie recommendation system**"
      ],
      "metadata": {
        "id": "5SrISMVFCjUt"
      }
    },
    {
      "cell_type": "code",
      "source": [
        "import os\n",
        "import numpy as np\n",
        "import pandas as pd\n",
        "import matplotlib.pyplot as plt\n",
        "plt.style.use('seaborn-bright')\n",
        "from sklearn.neighbors import NearestNeighbors\n",
        "from fuzzywuzzy import process\n",
        "%matplotlib inline"
      ],
      "metadata": {
        "_uuid": "8f2839f25d086af736a60e9eeb907d3b93b6e0e5",
        "_cell_guid": "b1076dfc-b9ad-4769-8c92-a6c4dae69d19",
        "execution": {
          "iopub.status.busy": "2021-06-06T19:04:16.835907Z",
          "iopub.execute_input": "2021-06-06T19:04:16.836612Z",
          "iopub.status.idle": "2021-06-06T19:04:17.169589Z",
          "shell.execute_reply.started": "2021-06-06T19:04:16.83652Z",
          "shell.execute_reply": "2021-06-06T19:04:17.168907Z"
        },
        "trusted": true,
        "id": "aWrwYUuWCjUu"
      },
      "execution_count": null,
      "outputs": []
    },
    {
      "cell_type": "code",
      "source": [
        "ratings_data = pd.read_csv(\"../input/the-movies-dataset/ratings_small.csv\")\n",
        "ratings_data = ratings_data.drop('timestamp', axis = 1)\n",
        "ratings_data.head()"
      ],
      "metadata": {
        "execution": {
          "iopub.status.busy": "2021-06-06T19:04:17.170577Z",
          "iopub.execute_input": "2021-06-06T19:04:17.170927Z",
          "iopub.status.idle": "2021-06-06T19:04:17.224279Z",
          "shell.execute_reply.started": "2021-06-06T19:04:17.170901Z",
          "shell.execute_reply": "2021-06-06T19:04:17.223567Z"
        },
        "trusted": true,
        "id": "cb9tW_vPCjUu"
      },
      "execution_count": null,
      "outputs": []
    },
    {
      "cell_type": "code",
      "source": [
        "movie_names = pd.read_csv(\"../input/the-movies-dataset/movies_metadata.csv\")\n",
        "movie_names = movie_names[['title', 'genres']]\n",
        "movie_names.head()"
      ],
      "metadata": {
        "execution": {
          "iopub.status.busy": "2021-06-06T19:04:17.225681Z",
          "iopub.execute_input": "2021-06-06T19:04:17.225912Z",
          "iopub.status.idle": "2021-06-06T19:04:17.824344Z",
          "shell.execute_reply.started": "2021-06-06T19:04:17.225889Z",
          "shell.execute_reply": "2021-06-06T19:04:17.823487Z"
        },
        "trusted": true,
        "id": "anubnghtCjUv"
      },
      "execution_count": null,
      "outputs": []
    },
    {
      "cell_type": "code",
      "source": [
        "movie_names.info()"
      ],
      "metadata": {
        "execution": {
          "iopub.status.busy": "2021-06-06T19:04:17.825601Z",
          "iopub.execute_input": "2021-06-06T19:04:17.82583Z",
          "iopub.status.idle": "2021-06-06T19:04:17.84013Z",
          "shell.execute_reply.started": "2021-06-06T19:04:17.825807Z",
          "shell.execute_reply": "2021-06-06T19:04:17.839376Z"
        },
        "trusted": true,
        "id": "zdpNHIzDCjUw"
      },
      "execution_count": null,
      "outputs": []
    },
    {
      "cell_type": "code",
      "source": [
        "# movie_data = ratings_data.merge(movie_names, on='movieId')\n",
        "movie_data = pd.concat([ratings_data, movie_names], axis=1)\n",
        "movie_data.head()"
      ],
      "metadata": {
        "execution": {
          "iopub.status.busy": "2021-06-06T19:04:17.841001Z",
          "iopub.execute_input": "2021-06-06T19:04:17.84124Z",
          "iopub.status.idle": "2021-06-06T19:04:17.859821Z",
          "shell.execute_reply.started": "2021-06-06T19:04:17.841217Z",
          "shell.execute_reply": "2021-06-06T19:04:17.859081Z"
        },
        "trusted": true,
        "id": "D3ofOUwgCjUw"
      },
      "execution_count": null,
      "outputs": []
    },
    {
      "cell_type": "code",
      "source": [
        "trend = pd.DataFrame(movie_data.groupby('title')['rating'].mean())\n",
        "trend['total number of ratings'] = pd.DataFrame(movie_data.groupby('title')['rating'].count())\n",
        "\n",
        "trend.head()"
      ],
      "metadata": {
        "execution": {
          "iopub.status.busy": "2021-06-06T19:04:17.860825Z",
          "iopub.execute_input": "2021-06-06T19:04:17.861041Z",
          "iopub.status.idle": "2021-06-06T19:04:17.973866Z",
          "shell.execute_reply.started": "2021-06-06T19:04:17.861019Z",
          "shell.execute_reply": "2021-06-06T19:04:17.973063Z"
        },
        "trusted": true,
        "id": "Xm7ElV1ZCjUx"
      },
      "execution_count": null,
      "outputs": []
    },
    {
      "cell_type": "code",
      "source": [
        "#plot rounded-up ratings with number of movies\n",
        "plt.figure(figsize =(10, 4))\n",
        "ax=plt.barh(trend['rating'].round(),trend['total number of ratings'],color='b')\n",
        "plt.show()"
      ],
      "metadata": {
        "execution": {
          "iopub.status.busy": "2021-06-06T19:04:17.974883Z",
          "iopub.execute_input": "2021-06-06T19:04:17.975109Z",
          "iopub.status.idle": "2021-06-06T19:05:19.542095Z",
          "shell.execute_reply.started": "2021-06-06T19:04:17.975087Z",
          "shell.execute_reply": "2021-06-06T19:05:19.541284Z"
        },
        "trusted": true,
        "id": "ulbj_9GkCjUy"
      },
      "execution_count": null,
      "outputs": []
    },
    {
      "cell_type": "code",
      "source": [
        "# Calculate mean rating of all movies and check the popular high rating movies\n",
        "movie_data.groupby('title')['rating'].mean().sort_values(ascending=False).head(10)"
      ],
      "metadata": {
        "execution": {
          "iopub.status.busy": "2021-06-06T19:05:19.543138Z",
          "iopub.execute_input": "2021-06-06T19:05:19.543407Z",
          "iopub.status.idle": "2021-06-06T19:05:19.605364Z",
          "shell.execute_reply.started": "2021-06-06T19:05:19.543378Z",
          "shell.execute_reply": "2021-06-06T19:05:19.60458Z"
        },
        "trusted": true,
        "id": "TA5WMwJDCjUy"
      },
      "execution_count": null,
      "outputs": []
    },
    {
      "cell_type": "markdown",
      "source": [
        "**Pivoting**"
      ],
      "metadata": {
        "id": "ZICGCvFlCjUz"
      }
    },
    {
      "cell_type": "markdown",
      "source": [
        "Pivot Table : A pivot table is a table of statistics that summarizes the data of a more extensive table. This summary might include sums, averages, or other statistics, which the pivot table groups together in a meaningful way. Pivot tables are a technique in data processing."
      ],
      "metadata": {
        "id": "nlq3pkvZCjU0"
      }
    },
    {
      "cell_type": "markdown",
      "source": [
        "![](https://pandas.pydata.org/pandas-docs/stable/_images/reshaping_pivot.png)"
      ],
      "metadata": {
        "id": "nEJ7iJxnCjU1"
      }
    },
    {
      "cell_type": "code",
      "source": [
        "movies_users = ratings_data.pivot(index=['userId'], columns=['movieId'], values='rating').fillna(0)\n",
        "movies_users"
      ],
      "metadata": {
        "execution": {
          "iopub.status.busy": "2021-06-06T19:05:19.606982Z",
          "iopub.execute_input": "2021-06-06T19:05:19.60723Z",
          "iopub.status.idle": "2021-06-06T19:05:19.743389Z",
          "shell.execute_reply.started": "2021-06-06T19:05:19.607204Z",
          "shell.execute_reply": "2021-06-06T19:05:19.742656Z"
        },
        "trusted": true,
        "id": "Ur7NB7mICjU1"
      },
      "execution_count": null,
      "outputs": []
    },
    {
      "cell_type": "markdown",
      "source": [
        "**Removing sparsity**"
      ],
      "metadata": {
        "id": "KzFdz-VpCjU2"
      }
    },
    {
      "cell_type": "markdown",
      "source": [
        "Our final_dataset has dimensions of 671 × 9066 where most of the values are sparse. We are using only a small dataset but for the original large dataset of movie lens which has more than 100000 features, our system may run out of computational resources when that is feed to the model. To reduce the sparsity we use the csr_matrix function from the scipy library."
      ],
      "metadata": {
        "id": "sdw6UBdJCjU2"
      }
    },
    {
      "cell_type": "code",
      "source": [
        "from scipy.sparse import csr_matrix\n",
        "mat_movies_users=csr_matrix(movies_users.values)\n",
        "mat_movies_users"
      ],
      "metadata": {
        "execution": {
          "iopub.status.busy": "2021-06-06T19:05:19.74454Z",
          "iopub.execute_input": "2021-06-06T19:05:19.744775Z",
          "iopub.status.idle": "2021-06-06T19:05:19.864814Z",
          "shell.execute_reply.started": "2021-06-06T19:05:19.744742Z",
          "shell.execute_reply": "2021-06-06T19:05:19.86396Z"
        },
        "trusted": true,
        "id": "ABwN_dFICjU4"
      },
      "execution_count": null,
      "outputs": []
    },
    {
      "cell_type": "code",
      "source": [
        "# Cosine Similarity\n",
        "model_knn= NearestNeighbors(metric='cosine', algorithm='brute', n_neighbors=20, n_jobs=-1)"
      ],
      "metadata": {
        "execution": {
          "iopub.status.busy": "2021-06-06T19:05:19.866144Z",
          "iopub.execute_input": "2021-06-06T19:05:19.866515Z",
          "iopub.status.idle": "2021-06-06T19:05:19.870595Z",
          "shell.execute_reply.started": "2021-06-06T19:05:19.866478Z",
          "shell.execute_reply": "2021-06-06T19:05:19.869785Z"
        },
        "trusted": true,
        "id": "XBgYmq5RCjU4"
      },
      "execution_count": null,
      "outputs": []
    },
    {
      "cell_type": "code",
      "source": [
        "model_knn.fit(mat_movies_users)"
      ],
      "metadata": {
        "execution": {
          "iopub.status.busy": "2021-06-06T19:05:19.871848Z",
          "iopub.execute_input": "2021-06-06T19:05:19.872187Z",
          "iopub.status.idle": "2021-06-06T19:05:19.882802Z",
          "shell.execute_reply.started": "2021-06-06T19:05:19.872152Z",
          "shell.execute_reply": "2021-06-06T19:05:19.881866Z"
        },
        "trusted": true,
        "id": "49Yh4SkZCjU5"
      },
      "execution_count": null,
      "outputs": []
    },
    {
      "cell_type": "code",
      "source": [
        "def Recommender(movie_name, data, model, n_recommendations):\n",
        "    model.fit(data)\n",
        "    movie_index = process.extractOne(movie_name, movie_names['title'])[2]\n",
        "    print('Movie Selected: ',movie_names['title'][movie_index], ', Index: ', movie_index)\n",
        "    print('Searching for recommendations.....')\n",
        "    distances, indices = model.kneighbors(data[movie_index], n_neighbors=n_recommendations)\n",
        "    recc_movie_indices = sorted(list(zip(indices.squeeze().tolist(),distances.squeeze().tolist())),key=lambda x: x[1])[:0:-1]\n",
        "    recommend_frame = []\n",
        "    for val in recc_movie_indices:\n",
        "#         print(movie_names['title'][val[0]])\n",
        "        recommend_frame.append({'Title':movie_names['title'][val[0]],'Distance':val[1]})\n",
        "\n",
        "    df = pd.DataFrame(recommend_frame, index = range(1,n_recommendations))\n",
        "\n",
        "    return df"
      ],
      "metadata": {
        "execution": {
          "iopub.status.busy": "2021-06-06T19:51:04.670454Z",
          "iopub.execute_input": "2021-06-06T19:51:04.670985Z",
          "iopub.status.idle": "2021-06-06T19:51:04.676986Z",
          "shell.execute_reply.started": "2021-06-06T19:51:04.670953Z",
          "shell.execute_reply": "2021-06-06T19:51:04.676276Z"
        },
        "trusted": true,
        "id": "PmeuxMVFCjU5"
      },
      "execution_count": null,
      "outputs": []
    },
    {
      "cell_type": "code",
      "source": [
        "n_recommendations = 20\n",
        "Recommender('Jumanji', mat_movies_users, model_knn, n_recommendations)"
      ],
      "metadata": {
        "execution": {
          "iopub.status.busy": "2021-06-06T19:51:06.757693Z",
          "iopub.execute_input": "2021-06-06T19:51:06.758016Z",
          "iopub.status.idle": "2021-06-06T19:51:08.786316Z",
          "shell.execute_reply.started": "2021-06-06T19:51:06.75799Z",
          "shell.execute_reply": "2021-06-06T19:51:08.785499Z"
        },
        "trusted": true,
        "id": "8japu0z_CjU6"
      },
      "execution_count": null,
      "outputs": []
    },
    {
      "cell_type": "markdown",
      "source": [
        "**Summary**"
      ],
      "metadata": {
        "id": "zUkrRZkDCjU6"
      }
    },
    {
      "cell_type": "markdown",
      "source": [
        "The above recommendation system uses item to item collaborative approach. This system is the simpleset implementation of recommendation system and need a lot of tuning.Also the system's first recommendations will always be the popular movies which are voted by nore people so a change can also be made there."
      ],
      "metadata": {
        "id": "EjHKKgNqCjU6"
      }
    }
  ]
}